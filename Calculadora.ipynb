{
  "cells": [
    {
      "cell_type": "code",
      "execution_count": null,
      "metadata": {
        "colab": {
          "background_save": true,
          "base_uri": "https://localhost:8080/"
        },
        "id": "fXi0AJCUfKXb",
        "outputId": "c079b380-7b45-42eb-fb56-9629bfe64995"
      },
      "outputs": [
        {
          "name": "stdout",
          "output_type": "stream",
          "text": [
            "O resultado é: 12\n"
          ]
        }
      ],
      "source": [
        "# Calculadora Básica\n",
        "\n",
        "while True:\n",
        "    # Menu\n",
        "    op = int(input(\"1. Soma \\n2. Subtração \\n3. Multiplicação \\n4. Divisão \\n5. Sair \\nEscolha uma operação: \"))\n",
        "\n",
        "    # Se o usuário escolher sair\n",
        "    if op == 5:\n",
        "        print(\"Saindo da calculadora...\")\n",
        "        break\n",
        "\n",
        "    # Declarar as variáveis\n",
        "    num1 = int(input(\"Digite o primeiro valor: \"))\n",
        "    num2 = int(input(\"Digite o segundo valor: \"))\n",
        "\n",
        "    # Operações\n",
        "    if op == 1:\n",
        "        resultado = num1 + num2\n",
        "        print(\"O resultado é:\", resultado)\n",
        "    elif op == 2:\n",
        "        resultado = num1 - num2\n",
        "        print(\"O resultado é:\", resultado)\n",
        "    elif op == 3:\n",
        "        resultado = num1 * num2\n",
        "        print(\"O resultado é:\", resultado)\n",
        "    elif op == 4:\n",
        "        if num2 == 0:\n",
        "            print(\"Divisão indefinida\")\n",
        "        else:\n",
        "            resultado = num1 / num2\n",
        "            print(\"O resultado é:\", resultado)\n",
        "    else:\n",
        "        print(\"Operação inválida! Tente novamente.\")\n"
      ]
    }
  ],
  "metadata": {
    "colab": {
      "provenance": []
    },
    "kernelspec": {
      "display_name": "Python 3",
      "name": "python3"
    },
    "language_info": {
      "name": "python"
    }
  },
  "nbformat": 4,
  "nbformat_minor": 0
}